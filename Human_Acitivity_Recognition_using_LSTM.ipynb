{
 "cells": [
  {
   "cell_type": "code",
   "execution_count": 1,
   "metadata": {
    "colab": {},
    "colab_type": "code",
    "id": "24ph5S9i8rmG"
   },
   "outputs": [],
   "source": [
    "# Importing Libraries\n",
    "#!pip install tensorflow"
   ]
  },
  {
   "cell_type": "code",
   "execution_count": 2,
   "metadata": {},
   "outputs": [],
   "source": [
    "#!pip install keras"
   ]
  },
  {
   "cell_type": "code",
   "execution_count": 1,
   "metadata": {
    "colab": {},
    "colab_type": "code",
    "id": "_NNwQBoo8rmN"
   },
   "outputs": [],
   "source": [
    "import pandas as pd\n",
    "import numpy as np"
   ]
  },
  {
   "cell_type": "code",
   "execution_count": 2,
   "metadata": {
    "colab": {},
    "colab_type": "code",
    "id": "TeM5DAFI8rmT"
   },
   "outputs": [],
   "source": [
    "# Activities are the class labels\n",
    "# It is a 6 class classification\n",
    "ACTIVITIES = {\n",
    "    0: 'WALKING',\n",
    "    1: 'WALKING_UPSTAIRS',\n",
    "    2: 'WALKING_DOWNSTAIRS',\n",
    "    3: 'SITTING',\n",
    "    4: 'STANDING',\n",
    "    5: 'LAYING',\n",
    "}\n",
    "\n",
    "# Utility function to print the confusion matrix\n",
    "def confusion_matrix(Y_true, Y_pred):\n",
    "    Y_true = pd.Series([ACTIVITIES[y] for y in np.argmax(Y_true, axis=1)])\n",
    "    Y_pred = pd.Series([ACTIVITIES[y] for y in np.argmax(Y_pred, axis=1)])\n",
    "\n",
    "    return pd.crosstab(Y_true, Y_pred, rownames=['True'], colnames=['Pred'])"
   ]
  },
  {
   "cell_type": "markdown",
   "metadata": {
    "colab_type": "text",
    "id": "Nt9pT8E38rmX"
   },
   "source": [
    "### Data"
   ]
  },
  {
   "cell_type": "code",
   "execution_count": 3,
   "metadata": {
    "colab": {},
    "colab_type": "code",
    "id": "ZQy27pNV8rmZ"
   },
   "outputs": [],
   "source": [
    "# Data directory\n",
    "DATADIR = 'UCI_HAR_Dataset'\n",
    "#DATADIR = 'gdrive/''My Drive''/UCI_HAR_Dataset'"
   ]
  },
  {
   "cell_type": "code",
   "execution_count": 4,
   "metadata": {
    "colab": {},
    "colab_type": "code",
    "id": "4SebnjiL8rmd"
   },
   "outputs": [],
   "source": [
    "# Raw data signals\n",
    "# Signals are from Accelerometer and Gyroscope\n",
    "# The signals are in x,y,z directions\n",
    "# Sensor signals are filtered to have only body acceleration\n",
    "# excluding the acceleration due to gravity\n",
    "# Triaxial acceleration from the accelerometer is total acceleration\n",
    "SIGNALS = [\n",
    "    \"body_acc_x\",\n",
    "    \"body_acc_y\",\n",
    "    \"body_acc_z\",\n",
    "    \"body_gyro_x\",\n",
    "    \"body_gyro_y\",\n",
    "    \"body_gyro_z\",\n",
    "    \"total_acc_x\",\n",
    "    \"total_acc_y\",\n",
    "    \"total_acc_z\"\n",
    "]"
   ]
  },
  {
   "cell_type": "code",
   "execution_count": 5,
   "metadata": {
    "colab": {},
    "colab_type": "code",
    "id": "jltcA6-N9gL0"
   },
   "outputs": [],
   "source": [
    "#'gdrive/''My Drive''/"
   ]
  },
  {
   "cell_type": "code",
   "execution_count": 6,
   "metadata": {
    "colab": {},
    "colab_type": "code",
    "id": "VUariegp8rmi"
   },
   "outputs": [],
   "source": [
    "# Utility function to read the data from csv file\n",
    "def _read_csv(filename):\n",
    "    return pd.read_csv(filename, delim_whitespace=True, header=None)\n",
    "\n",
    "# Utility function to load the load\n",
    "def load_signals(subset):\n",
    "    signals_data = []\n",
    "\n",
    "    for signal in SIGNALS:\n",
    "        filename = f'UCI_HAR_Dataset/{subset}/Inertial Signals/{signal}_{subset}.txt'\n",
    "        #filename = f'gdrive/''My Drive''/UCI_HAR_Dataset/'+subset+'/''Inertial Signals''/'+signal+'_'+subset+'.txt'\n",
    "        \n",
    "        signals_data.append(\n",
    "            _read_csv(filename).as_matrix()\n",
    "        ) \n",
    "\n",
    "    # Transpose is used to change the dimensionality of the output,\n",
    "    # aggregating the signals by combination of sample/timestep.\n",
    "    # Resultant shape is (7352 train/2947 test samples, 128 timesteps, 9 signals)\n",
    "    return np.transpose(signals_data, (1, 2, 0))"
   ]
  },
  {
   "cell_type": "code",
   "execution_count": 18,
   "metadata": {
    "colab": {},
    "colab_type": "code",
    "id": "8DfUuv0V8rmn"
   },
   "outputs": [],
   "source": [
    "\n",
    "def load_y(subset):\n",
    "    \"\"\"\n",
    "    The objective that we are trying to predict is a integer, from 1 to 6,\n",
    "    that represents a human activity. We return a binary representation of \n",
    "    every sample objective as a 6 bits vector using One Hot Encoding\n",
    "    (https://pandas.pydata.org/pandas-docs/stable/generated/pandas.get_dummies.html)\n",
    "    \"\"\"\n",
    "    filename = f'UCI_HAR_Dataset/{subset}/y_{subset}.txt'\n",
    "    #filename = f'gdrive/''My Drive''/UCI_HAR_Dataset/'+subset+'/y_'+subset+'.txt'\n",
    "    \n",
    "    y = _read_csv(filename)[0]\n",
    "\n",
    "    return pd.get_dummies(y).as_matrix()"
   ]
  },
  {
   "cell_type": "code",
   "execution_count": 8,
   "metadata": {
    "colab": {},
    "colab_type": "code",
    "id": "6E4AXhc48rms"
   },
   "outputs": [],
   "source": [
    "def load_data():\n",
    "    \"\"\"\n",
    "    Obtain the dataset from multiple files.\n",
    "    Returns: X_train, X_test, y_train, y_test\n",
    "    \"\"\"\n",
    "    X_train, X_test = load_signals('train'), load_signals('test')\n",
    "    y_train, y_test = load_y('train'), load_y('test')\n",
    "\n",
    "    return X_train, X_test, y_train, y_test"
   ]
  },
  {
   "cell_type": "code",
   "execution_count": 12,
   "metadata": {
    "colab": {},
    "colab_type": "code",
    "id": "DgxOEGVR8rmx"
   },
   "outputs": [
    {
     "name": "stderr",
     "output_type": "stream",
     "text": [
      "/anaconda3/lib/python3.6/site-packages/h5py/__init__.py:36: FutureWarning: Conversion of the second argument of issubdtype from `float` to `np.floating` is deprecated. In future, it will be treated as `np.float64 == np.dtype(float).type`.\n",
      "  from ._conv import register_converters as _register_converters\n"
     ]
    }
   ],
   "source": [
    "# Importing tensorflow\n",
    "np.random.seed(42)\n",
    "import tensorflow as tf\n",
    "tf.set_random_seed(42)"
   ]
  },
  {
   "cell_type": "code",
   "execution_count": 13,
   "metadata": {
    "colab": {},
    "colab_type": "code",
    "id": "eBkjYMgC8rm7"
   },
   "outputs": [],
   "source": [
    "# Configuring a session\n",
    "session_conf = tf.ConfigProto(\n",
    "    intra_op_parallelism_threads=1,\n",
    "    inter_op_parallelism_threads=1\n",
    ")"
   ]
  },
  {
   "cell_type": "code",
   "execution_count": 14,
   "metadata": {
    "colab": {},
    "colab_type": "code",
    "id": "r70iyEz48rm_"
   },
   "outputs": [
    {
     "name": "stderr",
     "output_type": "stream",
     "text": [
      "Using TensorFlow backend.\n"
     ]
    }
   ],
   "source": [
    "# Import Keras\n",
    "from keras import backend as K\n",
    "sess = tf.Session(graph=tf.get_default_graph(), config=session_conf)\n",
    "K.set_session(sess)"
   ]
  },
  {
   "cell_type": "code",
   "execution_count": 15,
   "metadata": {
    "colab": {},
    "colab_type": "code",
    "id": "d9mM2q1t8rnF"
   },
   "outputs": [],
   "source": [
    "# Importing libraries\n",
    "from keras.models import Sequential\n",
    "from keras.layers import LSTM\n",
    "from keras.layers.core import Dense, Dropout"
   ]
  },
  {
   "cell_type": "code",
   "execution_count": 16,
   "metadata": {
    "colab": {},
    "colab_type": "code",
    "id": "bUqprtFb8rnJ"
   },
   "outputs": [],
   "source": [
    "# Utility function to count the number of classes\n",
    "def _count_classes(y):\n",
    "    return len(set([tuple(category) for category in y]))"
   ]
  },
  {
   "cell_type": "code",
   "execution_count": 19,
   "metadata": {
    "colab": {},
    "colab_type": "code",
    "id": "sOaO7PQR8rnN"
   },
   "outputs": [],
   "source": [
    "# Loading the train and test data\n",
    "X_train, X_test, Y_train, Y_test = load_data()"
   ]
  },
  {
   "cell_type": "code",
   "execution_count": 20,
   "metadata": {
    "colab": {
     "base_uri": "https://localhost:8080/",
     "height": 72
    },
    "colab_type": "code",
    "id": "AmO4L4t68rnU",
    "outputId": "1e74e338-7b0b-4ebe-be96-5806fd5a8b53"
   },
   "outputs": [
    {
     "name": "stdout",
     "output_type": "stream",
     "text": [
      "128\n",
      "9\n",
      "7352\n"
     ]
    }
   ],
   "source": [
    "timesteps = len(X_train[0])\n",
    "input_dim = len(X_train[0][0])\n",
    "n_classes = _count_classes(Y_train)\n",
    "\n",
    "print(timesteps)\n",
    "print(input_dim)\n",
    "print(len(X_train))"
   ]
  },
  {
   "cell_type": "code",
   "execution_count": null,
   "metadata": {
    "colab": {},
    "colab_type": "code",
    "id": "zPcSYgKg8rnZ"
   },
   "outputs": [],
   "source": [
    "# Initializing parameters\n",
    "epochs = 30\n",
    "batch_size = 64\n",
    "n_hidden = 32"
   ]
  },
  {
   "cell_type": "markdown",
   "metadata": {
    "colab_type": "text",
    "id": "4tV6_4d38rng"
   },
   "source": [
    "- Defining the Architecture of LSTM"
   ]
  },
  {
   "cell_type": "code",
   "execution_count": 0,
   "metadata": {
    "colab": {
     "base_uri": "https://localhost:8080/",
     "height": 254
    },
    "colab_type": "code",
    "id": "BLpvPbxg8rni",
    "outputId": "f4ef0752-709d-47f9-d933-3d66a5ea9d5e",
    "scrolled": true
   },
   "outputs": [
    {
     "name": "stdout",
     "output_type": "stream",
     "text": [
      "_________________________________________________________________\n",
      "Layer (type)                 Output Shape              Param #   \n",
      "=================================================================\n",
      "lstm_1 (LSTM)                (None, 32)                5376      \n",
      "_________________________________________________________________\n",
      "dropout_1 (Dropout)          (None, 32)                0         \n",
      "_________________________________________________________________\n",
      "dense_1 (Dense)              (None, 6)                 198       \n",
      "=================================================================\n",
      "Total params: 5,574\n",
      "Trainable params: 5,574\n",
      "Non-trainable params: 0\n",
      "_________________________________________________________________\n"
     ]
    }
   ],
   "source": [
    "# Initiliazing the sequential model\n",
    "model = Sequential()\n",
    "# Configuring the parameters\n",
    "model.add(LSTM(n_hidden, input_shape=(timesteps, input_dim)))\n",
    "# Adding a dropout layer\n",
    "model.add(Dropout(0.5))\n",
    "# Adding a dense output layer with sigmoid activation\n",
    "model.add(Dense(n_classes, activation='sigmoid'))\n",
    "model.summary()"
   ]
  },
  {
   "cell_type": "code",
   "execution_count": 0,
   "metadata": {
    "colab": {},
    "colab_type": "code",
    "id": "gYoL47Fn8rno"
   },
   "outputs": [],
   "source": [
    "# Compiling the model\n",
    "model.compile(loss='categorical_crossentropy',\n",
    "              optimizer='rmsprop',\n",
    "              metrics=['accuracy'])"
   ]
  },
  {
   "cell_type": "code",
   "execution_count": 0,
   "metadata": {
    "colab": {
     "base_uri": "https://localhost:8080/",
     "height": 1145
    },
    "colab_type": "code",
    "id": "Wt8_7Cfx8rnw",
    "outputId": "183706e1-50ef-418e-d70c-78dd655c48da"
   },
   "outputs": [
    {
     "name": "stdout",
     "output_type": "stream",
     "text": [
      "Train on 7352 samples, validate on 2947 samples\n",
      "Epoch 1/30\n",
      "7352/7352 [==============================] - 41s 6ms/step - loss: 0.3678 - acc: 0.8021 - val_loss: 0.6611 - val_acc: 0.7377\n",
      "Epoch 2/30\n",
      "7352/7352 [==============================] - 41s 6ms/step - loss: 0.3584 - acc: 0.7999 - val_loss: 0.5097 - val_acc: 0.7621\n",
      "Epoch 3/30\n",
      "7352/7352 [==============================] - 41s 6ms/step - loss: 0.3399 - acc: 0.8043 - val_loss: 0.5100 - val_acc: 0.7499\n",
      "Epoch 4/30\n",
      "7352/7352 [==============================] - 41s 6ms/step - loss: 0.3540 - acc: 0.8081 - val_loss: 0.5005 - val_acc: 0.7560\n",
      "Epoch 5/30\n",
      "7352/7352 [==============================] - 41s 6ms/step - loss: 0.3349 - acc: 0.8100 - val_loss: 0.4837 - val_acc: 0.7618\n",
      "Epoch 6/30\n",
      "7352/7352 [==============================] - 41s 6ms/step - loss: 0.3152 - acc: 0.8141 - val_loss: 0.4966 - val_acc: 0.7547\n",
      "Epoch 7/30\n",
      "7352/7352 [==============================] - 41s 6ms/step - loss: 0.3189 - acc: 0.8211 - val_loss: 0.6462 - val_acc: 0.7377\n",
      "Epoch 8/30\n",
      "7352/7352 [==============================] - 41s 6ms/step - loss: 0.3120 - acc: 0.8288 - val_loss: 0.4608 - val_acc: 0.7553\n",
      "Epoch 9/30\n",
      "7352/7352 [==============================] - 41s 6ms/step - loss: 0.3338 - acc: 0.8285 - val_loss: 0.4828 - val_acc: 0.7496\n",
      "Epoch 10/30\n",
      "7352/7352 [==============================] - 41s 6ms/step - loss: 0.2855 - acc: 0.8425 - val_loss: 0.5887 - val_acc: 0.7570\n",
      "Epoch 11/30\n",
      "7352/7352 [==============================] - 41s 6ms/step - loss: 0.3147 - acc: 0.8479 - val_loss: 0.5424 - val_acc: 0.7520\n",
      "Epoch 12/30\n",
      "7352/7352 [==============================] - 41s 6ms/step - loss: 0.3181 - acc: 0.8576 - val_loss: 0.5440 - val_acc: 0.7730\n",
      "Epoch 13/30\n",
      "7352/7352 [==============================] - 41s 6ms/step - loss: 0.2777 - acc: 0.8647 - val_loss: 0.5085 - val_acc: 0.7913\n",
      "Epoch 14/30\n",
      "7352/7352 [==============================] - 41s 6ms/step - loss: 0.2770 - acc: 0.8706 - val_loss: 0.5454 - val_acc: 0.8273\n",
      "Epoch 15/30\n",
      "7352/7352 [==============================] - 41s 6ms/step - loss: 0.2806 - acc: 0.8732 - val_loss: 0.5074 - val_acc: 0.8812\n",
      "Epoch 16/30\n",
      "7352/7352 [==============================] - 41s 6ms/step - loss: 0.2827 - acc: 0.8832 - val_loss: 0.5202 - val_acc: 0.8819\n",
      "Epoch 17/30\n",
      "7352/7352 [==============================] - 41s 6ms/step - loss: 0.2828 - acc: 0.8860 - val_loss: 0.5851 - val_acc: 0.8761\n",
      "Epoch 18/30\n",
      "7352/7352 [==============================] - 41s 6ms/step - loss: 0.2494 - acc: 0.8992 - val_loss: 0.6088 - val_acc: 0.8683\n",
      "Epoch 19/30\n",
      "7352/7352 [==============================] - 41s 6ms/step - loss: 0.3042 - acc: 0.8936 - val_loss: 0.5455 - val_acc: 0.8690\n",
      "Epoch 20/30\n",
      "7352/7352 [==============================] - 41s 6ms/step - loss: 0.2685 - acc: 0.9097 - val_loss: 0.4983 - val_acc: 0.8955\n",
      "Epoch 21/30\n",
      "7352/7352 [==============================] - 41s 6ms/step - loss: 0.2833 - acc: 0.9105 - val_loss: 0.4554 - val_acc: 0.8992\n",
      "Epoch 22/30\n",
      "7352/7352 [==============================] - 41s 6ms/step - loss: 0.2364 - acc: 0.9327 - val_loss: 0.4683 - val_acc: 0.9087\n",
      "Epoch 23/30\n",
      "7352/7352 [==============================] - 41s 6ms/step - loss: 0.2267 - acc: 0.9362 - val_loss: 0.4226 - val_acc: 0.8863\n",
      "Epoch 24/30\n",
      "7352/7352 [==============================] - 41s 6ms/step - loss: 0.2121 - acc: 0.9400 - val_loss: 0.4536 - val_acc: 0.8935\n",
      "Epoch 25/30\n",
      "7352/7352 [==============================] - 41s 6ms/step - loss: 0.1873 - acc: 0.9416 - val_loss: 0.4270 - val_acc: 0.8721\n",
      "Epoch 26/30\n",
      "7352/7352 [==============================] - 41s 6ms/step - loss: 0.1779 - acc: 0.9418 - val_loss: 0.3896 - val_acc: 0.8979\n",
      "Epoch 27/30\n",
      "7352/7352 [==============================] - 41s 6ms/step - loss: 0.1785 - acc: 0.9404 - val_loss: 0.5725 - val_acc: 0.8534\n",
      "Epoch 28/30\n",
      "7352/7352 [==============================] - 41s 6ms/step - loss: 0.1706 - acc: 0.9452 - val_loss: 0.4227 - val_acc: 0.8897\n",
      "Epoch 29/30\n",
      "7352/7352 [==============================] - 41s 6ms/step - loss: 0.1579 - acc: 0.9465 - val_loss: 0.4868 - val_acc: 0.8806\n",
      "Epoch 30/30\n",
      "7352/7352 [==============================] - 41s 6ms/step - loss: 0.1714 - acc: 0.9430 - val_loss: 0.3022 - val_acc: 0.8992\n"
     ]
    },
    {
     "data": {
      "text/plain": [
       "<keras.callbacks.History at 0x7f743f094828>"
      ]
     },
     "execution_count": 59,
     "metadata": {
      "tags": []
     },
     "output_type": "execute_result"
    }
   ],
   "source": [
    "# Training the model\n",
    "model.fit(X_train,\n",
    "          Y_train,\n",
    "          batch_size=batch_size,\n",
    "          validation_data=(X_test, Y_test),\n",
    "          epochs=epochs)"
   ]
  },
  {
   "cell_type": "code",
   "execution_count": 0,
   "metadata": {
    "colab": {
     "base_uri": "https://localhost:8080/",
     "height": 326
    },
    "colab_type": "code",
    "id": "6GK0y65z8rn3",
    "outputId": "2b833d36-52bc-4b3d-feef-9d67355bc04a"
   },
   "outputs": [
    {
     "name": "stdout",
     "output_type": "stream",
     "text": [
      "Pred                LAYING  SITTING  STANDING  WALKING  WALKING_DOWNSTAIRS  \\\n",
      "True                                                                         \n",
      "LAYING                 509        1         0        0                   0   \n",
      "SITTING                  0      421        61        1                   1   \n",
      "STANDING                 0      132       398        2                   0   \n",
      "WALKING                  0        0         0      470                  19   \n",
      "WALKING_DOWNSTAIRS       0        0         0        0                 420   \n",
      "WALKING_UPSTAIRS         0        0         0       16                  23   \n",
      "\n",
      "Pred                WALKING_UPSTAIRS  \n",
      "True                                  \n",
      "LAYING                            27  \n",
      "SITTING                            7  \n",
      "STANDING                           0  \n",
      "WALKING                            7  \n",
      "WALKING_DOWNSTAIRS                 0  \n",
      "WALKING_UPSTAIRS                 432  \n"
     ]
    }
   ],
   "source": [
    "# Confusion Matrix\n",
    "print(confusion_matrix(Y_test, model.predict(X_test)))"
   ]
  },
  {
   "cell_type": "code",
   "execution_count": 0,
   "metadata": {
    "colab": {
     "base_uri": "https://localhost:8080/",
     "height": 35
    },
    "colab_type": "code",
    "id": "vUFhhP0n8rn9",
    "outputId": "5769d135-e12a-4f7d-c179-0af455ec0b30"
   },
   "outputs": [
    {
     "name": "stdout",
     "output_type": "stream",
     "text": [
      "2947/2947 [==============================] - 12s 4ms/step\n"
     ]
    }
   ],
   "source": [
    "score = model.evaluate(X_test, Y_test)"
   ]
  },
  {
   "cell_type": "code",
   "execution_count": 0,
   "metadata": {
    "colab": {
     "base_uri": "https://localhost:8080/",
     "height": 35
    },
    "colab_type": "code",
    "id": "WJso057i8roE",
    "outputId": "c11e0414-8788-4287-d9cf-2131caba7a22"
   },
   "outputs": [
    {
     "data": {
      "text/plain": [
       "[0.3021577629208575, 0.8992195453003053]"
      ]
     },
     "execution_count": 62,
     "metadata": {
      "tags": []
     },
     "output_type": "execute_result"
    }
   ],
   "source": [
    "score"
   ]
  },
  {
   "cell_type": "markdown",
   "metadata": {
    "colab_type": "text",
    "id": "-IpZHBBQ8roJ"
   },
   "source": [
    "- With a simple 2 layer architecture we got 90.09% accuracy and a loss of 0.30\n",
    "- We can further imporve the performace with Hyperparameter tuning"
   ]
  },
  {
   "cell_type": "markdown",
   "metadata": {
    "colab_type": "text",
    "id": "sCeprGV-8roL"
   },
   "source": []
  },
  {
   "cell_type": "markdown",
   "metadata": {
    "colab_type": "text",
    "id": "4djuXZcD8roM"
   },
   "source": [
    "## 1 Hyperparameter Tuning LSTM units"
   ]
  },
  {
   "cell_type": "markdown",
   "metadata": {},
   "source": [
    "**Procedure** :\n",
    "\n",
    "1. In this model, we design a 1 hidden layer neural network with the following arcitecture\n",
    "\n",
    "2. Architecture : \n",
    "   INPUT - LSTM(n_units) - DROPUT(0.5) - DENSE(6) - OUTPUT\n",
    "\n",
    "3.  Number of LSTM units is a hyperparameter.\n",
    "4.  To tune this, we use keras sklearn's wrapper and perform 3-fold GridSearch cross validation.\n",
    "\n",
    "5.  With optimum LSTM units, the model is fitted with train data and finally tested."
   ]
  },
  {
   "cell_type": "code",
   "execution_count": 25,
   "metadata": {
    "colab": {},
    "colab_type": "code",
    "id": "yGMaTcDe8roU"
   },
   "outputs": [],
   "source": [
    "from keras.initializers import he_normal\n",
    "from keras.wrappers.scikit_learn import KerasClassifier\n",
    "from sklearn.model_selection import GridSearchCV"
   ]
  },
  {
   "cell_type": "code",
   "execution_count": 79,
   "metadata": {
    "colab": {},
    "colab_type": "code",
    "id": "s3d3g5nh8roO"
   },
   "outputs": [],
   "source": [
    "# Initializing parameters\n",
    "epochs = 30\n",
    "batch_size = 64\n",
    "#n_hidden = 32"
   ]
  },
  {
   "cell_type": "markdown",
   "metadata": {
    "colab_type": "text",
    "id": "kag5y9hJ8roS"
   },
   "source": [
    "- Defining the Architecture of LSTM"
   ]
  },
  {
   "cell_type": "code",
   "execution_count": 80,
   "metadata": {
    "colab": {},
    "colab_type": "code",
    "id": "Qv8r_vUh8roX"
   },
   "outputs": [],
   "source": [
    "def best_LSTM_units(n_units):\n",
    "    # Initiliazing the sequential model\n",
    "    model = Sequential()\n",
    "    # Configuring the parameters\n",
    "    model.add(LSTM(n_units, input_shape=(timesteps, input_dim),kernel_initializer=he_normal(seed=None)))\n",
    "    # Adding a dropout layer\n",
    "    model.add(Dropout(0.5))\n",
    "    # Adding a dense output layer with sigmoid activation\n",
    "    model.add(Dense(n_classes, activation='sigmoid'))\n",
    "    #model.summary()\n",
    "    \n",
    "    # Compiling the model\n",
    "    model.compile(loss='categorical_crossentropy',\n",
    "              optimizer='rmsprop',\n",
    "              metrics=['accuracy'])\n",
    "    return model"
   ]
  },
  {
   "cell_type": "code",
   "execution_count": 81,
   "metadata": {
    "colab": {},
    "colab_type": "code",
    "id": "UbaBywep8rod"
   },
   "outputs": [],
   "source": [
    "n_units = [16,32,64,128]\n",
    "\n",
    "model = KerasClassifier(build_fn=best_LSTM_units, epochs=epochs, batch_size=batch_size, verbose=0)\n",
    "param_grid = dict(n_units=n_units)\n",
    "\n",
    "# if you are using CPU\n",
    "# grid = GridSearchCV(estimator=model, param_grid=param_grid, n_jobs=-1)\n",
    "# if you are using GPU dont use the n_jobs parameter\n",
    "\n",
    "grid = GridSearchCV(estimator=model, param_grid=param_grid,cv=3)\n",
    "grid_result = grid.fit(X_train, Y_train,validation_data=(X_test, Y_test))"
   ]
  },
  {
   "cell_type": "code",
   "execution_count": 82,
   "metadata": {
    "colab": {},
    "colab_type": "code",
    "id": "b2xcf2LqLEfT"
   },
   "outputs": [
    {
     "name": "stdout",
     "output_type": "stream",
     "text": [
      "Best: score 0.925734 using {'n_units': 128}\n",
      "\n",
      "Scores\n",
      "\n",
      "0.718580 (0.064194) with: {'n_units': 16}\n",
      "0.894587 (0.020617) with: {'n_units': 32}\n",
      "0.889554 (0.029379) with: {'n_units': 64}\n",
      "0.925734 (0.016083) with: {'n_units': 128}\n"
     ]
    }
   ],
   "source": [
    "print(\"Best: score %f using %s\" % (grid_result.best_score_, grid_result.best_params_))\n",
    "means = grid_result.cv_results_['mean_test_score']\n",
    "stds = grid_result.cv_results_['std_test_score']\n",
    "params = grid_result.cv_results_['params']\n",
    "print(\"\\nScores\\n\")\n",
    "for mean, stdev, param in zip(means, stds, params):\n",
    "    print(\"%f (%f) with: %r\" % (mean, stdev, param))"
   ]
  },
  {
   "cell_type": "code",
   "execution_count": 83,
   "metadata": {},
   "outputs": [],
   "source": [
    "from keras.utils import to_categorical"
   ]
  },
  {
   "cell_type": "code",
   "execution_count": 84,
   "metadata": {},
   "outputs": [],
   "source": [
    "y_pred=to_categorical((grid_result.predict(X_test)))"
   ]
  },
  {
   "cell_type": "code",
   "execution_count": 85,
   "metadata": {
    "colab": {},
    "colab_type": "code",
    "id": "FfIMZv1G8roq",
    "outputId": "e9c6f8ee-cd21-4682-95ff-c9e6ee4c1c15"
   },
   "outputs": [
    {
     "name": "stdout",
     "output_type": "stream",
     "text": [
      "Pred                LAYING  SITTING  STANDING  WALKING  WALKING_DOWNSTAIRS  \\\n",
      "True                                                                         \n",
      "LAYING                 510        0        27        0                   0   \n",
      "SITTING                  0      420        70        0                   0   \n",
      "STANDING                 0       90       441        1                   0   \n",
      "WALKING                  0        3         2      473                  13   \n",
      "WALKING_DOWNSTAIRS       0        0         0        2                 413   \n",
      "WALKING_UPSTAIRS         0        1         1        4                   1   \n",
      "\n",
      "Pred                WALKING_UPSTAIRS  \n",
      "True                                  \n",
      "LAYING                             0  \n",
      "SITTING                            1  \n",
      "STANDING                           0  \n",
      "WALKING                            5  \n",
      "WALKING_DOWNSTAIRS                 5  \n",
      "WALKING_UPSTAIRS                 464  \n"
     ]
    }
   ],
   "source": [
    "# Confusion Matrix\n",
    "print(confusion_matrix(Y_test, y_pred))"
   ]
  },
  {
   "cell_type": "code",
   "execution_count": 86,
   "metadata": {
    "colab": {},
    "colab_type": "code",
    "id": "ZHvwZRPU8row",
    "outputId": "6731cc59-7071-4ac3-f5bd-a5153d7d1461"
   },
   "outputs": [],
   "source": [
    "score = grid.score(X_test, Y_test)"
   ]
  },
  {
   "cell_type": "code",
   "execution_count": 88,
   "metadata": {
    "colab": {},
    "colab_type": "code",
    "id": "sv54yU9T8ro8",
    "outputId": "f54b8897-9476-48a3-fab8-c2923f66cf45"
   },
   "outputs": [
    {
     "name": "stdout",
     "output_type": "stream",
     "text": [
      "Test Score :  0.9233118425517476\n"
     ]
    }
   ],
   "source": [
    "print(\"Test Score : \",score)"
   ]
  },
  {
   "cell_type": "markdown",
   "metadata": {},
   "source": [
    "**Observation** \n",
    "\n",
    "1. The model performed well with \n",
    "   -  train score of 92.5% and \n",
    "   -  test scores of 92.3%\n",
    "2. The model misclassifies \n",
    "   -  14% of SITTING classes as STANDING and \n",
    "   -  17% of STANDING classes as SITTING"
   ]
  },
  {
   "cell_type": "markdown",
   "metadata": {
    "colab": {},
    "colab_type": "code",
    "id": "6mdOSmoz8rpA"
   },
   "source": [
    "# 2 Tuning Dropout Rate"
   ]
  },
  {
   "cell_type": "markdown",
   "metadata": {},
   "source": [
    "**Procedure** :\n",
    "\n",
    "1. In this model, we design a 1 hidden layer neural network with the following arcitecture\n",
    "\n",
    "2. Architecture : \n",
    "   INPUT - LSTM(128) - DROPUT(dropout_rate) - DENSE(6) - OUTPUT\n",
    "\n",
    "3.  We consider 128 LSTM units as tuned earlier. Here, the dropout rate is the hyper parameter.\n",
    "\n",
    "4.  To tune Dropout rate, we use keras sklearn's wrapper and perform 3-fold GridSearch cross validation.\n",
    "\n",
    "5.  With optimum dropout rate, we determine test accuracy of the model."
   ]
  },
  {
   "cell_type": "code",
   "execution_count": 89,
   "metadata": {
    "colab": {},
    "colab_type": "code",
    "id": "Qv8r_vUh8roX"
   },
   "outputs": [],
   "source": [
    "def best_dropout_rate(dropout_rate):\n",
    "    # Initiliazing the sequential model\n",
    "    model = Sequential()\n",
    "    # Configuring the parameters\n",
    "    model.add(LSTM(128, input_shape=(timesteps, input_dim),kernel_initializer=he_normal(seed=None)))\n",
    "    # Adding a dropout layer\n",
    "    model.add(Dropout(dropout_rate))\n",
    "    # Adding a dense output layer with sigmoid activation\n",
    "    model.add(Dense(n_classes, activation='sigmoid'))\n",
    "    #model.summary()\n",
    "    \n",
    "    # Compiling the model\n",
    "    model.compile(loss='categorical_crossentropy',\n",
    "              optimizer='rmsprop',\n",
    "              metrics=['accuracy'])\n",
    "    return model"
   ]
  },
  {
   "cell_type": "code",
   "execution_count": 90,
   "metadata": {
    "colab": {},
    "colab_type": "code",
    "id": "UbaBywep8rod"
   },
   "outputs": [],
   "source": [
    "dropout_rate = np.arange(0.1,1.0,0.2)\n",
    "\n",
    "model = KerasClassifier(build_fn=best_dropout_rate, epochs=epochs, batch_size=batch_size, verbose=0)\n",
    "param_grid = dict(dropout_rate=dropout_rate)\n",
    "\n",
    "# if you are using CPU\n",
    "# grid = GridSearchCV(estimator=model, param_grid=param_grid, n_jobs=-1)\n",
    "# if you are using GPU dont use the n_jobs parameter\n",
    "\n",
    "grid = GridSearchCV(estimator=model, param_grid=param_grid,cv=3)\n",
    "grid_result = grid.fit(X_train, Y_train,validation_data=(X_test, Y_test))"
   ]
  },
  {
   "cell_type": "code",
   "execution_count": 91,
   "metadata": {
    "colab": {},
    "colab_type": "code",
    "id": "b2xcf2LqLEfT"
   },
   "outputs": [
    {
     "name": "stdout",
     "output_type": "stream",
     "text": [
      "Best train score : 0.924918 using {'dropout_rate': 0.5000000000000001}\n",
      "\n",
      "Scores\n",
      "\n",
      "0.916621 (0.026336) with: {'dropout_rate': 0.1}\n",
      "0.913629 (0.013341) with: {'dropout_rate': 0.30000000000000004}\n",
      "0.924918 (0.014438) with: {'dropout_rate': 0.5000000000000001}\n",
      "0.918390 (0.010504) with: {'dropout_rate': 0.7000000000000001}\n",
      "0.911589 (0.020486) with: {'dropout_rate': 0.9000000000000001}\n"
     ]
    }
   ],
   "source": [
    "print(\"Best train score : %f using %s\" % (grid_result.best_score_, grid_result.best_params_))\n",
    "means = grid_result.cv_results_['mean_test_score']\n",
    "stds = grid_result.cv_results_['std_test_score']\n",
    "params = grid_result.cv_results_['params']\n",
    "print(\"\\nScores\\n\")\n",
    "for mean, stdev, param in zip(means, stds, params):\n",
    "    print(\"%f (%f) with: %r\" % (mean, stdev, param))"
   ]
  },
  {
   "cell_type": "code",
   "execution_count": 45,
   "metadata": {},
   "outputs": [],
   "source": []
  },
  {
   "cell_type": "code",
   "execution_count": 94,
   "metadata": {},
   "outputs": [],
   "source": [
    "y_pred=to_categorical((grid_result.predict(X_test)))"
   ]
  },
  {
   "cell_type": "code",
   "execution_count": 95,
   "metadata": {
    "colab": {},
    "colab_type": "code",
    "id": "FfIMZv1G8roq",
    "outputId": "e9c6f8ee-cd21-4682-95ff-c9e6ee4c1c15"
   },
   "outputs": [
    {
     "name": "stdout",
     "output_type": "stream",
     "text": [
      "Pred                LAYING  SITTING  STANDING  WALKING  WALKING_DOWNSTAIRS  \\\n",
      "True                                                                         \n",
      "LAYING                 510        0         0        0                   0   \n",
      "SITTING                  0      353       120        0                   0   \n",
      "STANDING                 0       74       455        1                   0   \n",
      "WALKING                  0        4         0      481                   5   \n",
      "WALKING_DOWNSTAIRS       0        1         0        4                 415   \n",
      "WALKING_UPSTAIRS         0        7         0       11                  11   \n",
      "\n",
      "Pred                WALKING_UPSTAIRS  \n",
      "True                                  \n",
      "LAYING                            27  \n",
      "SITTING                           18  \n",
      "STANDING                           2  \n",
      "WALKING                            6  \n",
      "WALKING_DOWNSTAIRS                 0  \n",
      "WALKING_UPSTAIRS                 442  \n"
     ]
    }
   ],
   "source": [
    "# Confusion Matrix\n",
    "print(confusion_matrix(Y_test, y_pred))"
   ]
  },
  {
   "cell_type": "code",
   "execution_count": 96,
   "metadata": {
    "colab": {},
    "colab_type": "code",
    "id": "ZHvwZRPU8row",
    "outputId": "6731cc59-7071-4ac3-f5bd-a5153d7d1461"
   },
   "outputs": [],
   "source": [
    "score = grid.score(X_test, Y_test)"
   ]
  },
  {
   "cell_type": "code",
   "execution_count": 97,
   "metadata": {
    "colab": {},
    "colab_type": "code",
    "id": "sv54yU9T8ro8",
    "outputId": "f54b8897-9476-48a3-fab8-c2923f66cf45"
   },
   "outputs": [
    {
     "name": "stdout",
     "output_type": "stream",
     "text": [
      "Test score:  0.9012555140821175\n"
     ]
    }
   ],
   "source": [
    "print(\"Test score: \",score)"
   ]
  },
  {
   "cell_type": "markdown",
   "metadata": {},
   "source": [
    "**Observation** \n",
    "\n",
    "1. The model performed well with \n",
    "   -  train score of 92.4% and\n",
    "   -  test score of 90.1%\n",
    "2. Coming to classification matrix, the model misclassifies \n",
    "   -  26.8% of SITTING classes as STANDING and \n",
    "   -  14% of STANDING classes as SITTING"
   ]
  },
  {
   "cell_type": "markdown",
   "metadata": {},
   "source": [
    "# Deep Network with two LSTM layers"
   ]
  },
  {
   "cell_type": "markdown",
   "metadata": {},
   "source": [
    "**Procedure** :\n",
    "\n",
    "1. In this model, we design a neural network with 2 hidden LSTM layers.\n",
    "\n",
    "2. Architecture : \n",
    "   INPUT - LSTM(128) - DROPUT(0.5) - BN - LSTM(32) - DROPUT(0.5) - BN - DENSE(6) - OUTPUT\n",
    "\n",
    "3.  All the weights are initialised using he_normal intialization.\n",
    "\n",
    "**Network Parameters** :\n",
    "\n",
    "1.  Optimzer - Adam\n",
    "\n",
    "2.  loss - Categorical Cross Entropy\n",
    "\n",
    "3.  Metrics - Accuracy\n",
    "\n",
    "4.  Epochs  - 30\n",
    "\n",
    "5.  Batch Size  -  64\n",
    "\n",
    "6.  Dropout rate - 0.5\n",
    "\n",
    "7.  LSTM units - 128 (layer 1) , 32 (layer 2)\n"
   ]
  },
  {
   "cell_type": "code",
   "execution_count": 116,
   "metadata": {},
   "outputs": [],
   "source": [
    "from keras.initializers import he_normal\n",
    "from keras.layers.normalization import BatchNormalization"
   ]
  },
  {
   "cell_type": "code",
   "execution_count": 123,
   "metadata": {},
   "outputs": [],
   "source": [
    "# Initializing parameters\n",
    "epochs = 30\n",
    "batch_size = 64\n",
    "n_hidden_1 = 128\n",
    "n_hidden_2=32"
   ]
  },
  {
   "cell_type": "code",
   "execution_count": 124,
   "metadata": {
    "colab": {
     "base_uri": "https://localhost:8080/",
     "height": 254
    },
    "colab_type": "code",
    "id": "BLpvPbxg8rni",
    "outputId": "f4ef0752-709d-47f9-d933-3d66a5ea9d5e",
    "scrolled": true
   },
   "outputs": [
    {
     "name": "stdout",
     "output_type": "stream",
     "text": [
      "_________________________________________________________________\n",
      "Layer (type)                 Output Shape              Param #   \n",
      "=================================================================\n",
      "lstm_114 (LSTM)              (None, 128, 128)          70656     \n",
      "_________________________________________________________________\n",
      "batch_normalization_8 (Batch (None, 128, 128)          512       \n",
      "_________________________________________________________________\n",
      "dropout_113 (Dropout)        (None, 128, 128)          0         \n",
      "_________________________________________________________________\n",
      "lstm_115 (LSTM)              (None, 32)                20608     \n",
      "_________________________________________________________________\n",
      "batch_normalization_9 (Batch (None, 32)                128       \n",
      "_________________________________________________________________\n",
      "dropout_114 (Dropout)        (None, 32)                0         \n",
      "_________________________________________________________________\n",
      "dense_108 (Dense)            (None, 6)                 198       \n",
      "=================================================================\n",
      "Total params: 92,102\n",
      "Trainable params: 91,782\n",
      "Non-trainable params: 320\n",
      "_________________________________________________________________\n"
     ]
    }
   ],
   "source": [
    "# Initiliazing the sequential model\n",
    "model = Sequential()\n",
    "# Configuring the parameters\n",
    "model.add(LSTM(n_hidden_1,return_sequences=True,input_shape=(timesteps, input_dim),kernel_initializer=he_normal(seed=None)))\n",
    "model.add(BatchNormalization())\n",
    "# Adding a dropout layer\n",
    "model.add(Dropout(0.5))\n",
    "model.add(LSTM(n_hidden_2,kernel_initializer=he_normal(seed=None)))\n",
    "model.add(BatchNormalization())\n",
    "model.add(Dropout(0.5))\n",
    "# Adding a dense output layer with sigmoid activation\n",
    "model.add(Dense(n_classes, activation='sigmoid',kernel_initializer=he_normal(seed=None)))\n",
    "model.summary()"
   ]
  },
  {
   "cell_type": "code",
   "execution_count": 125,
   "metadata": {
    "colab": {},
    "colab_type": "code",
    "id": "gYoL47Fn8rno"
   },
   "outputs": [],
   "source": [
    "# Compiling the model\n",
    "model.compile(loss='categorical_crossentropy',\n",
    "              optimizer='adam',\n",
    "              metrics=['accuracy'])"
   ]
  },
  {
   "cell_type": "code",
   "execution_count": 126,
   "metadata": {
    "colab": {
     "base_uri": "https://localhost:8080/",
     "height": 1145
    },
    "colab_type": "code",
    "id": "Wt8_7Cfx8rnw",
    "outputId": "183706e1-50ef-418e-d70c-78dd655c48da",
    "scrolled": true
   },
   "outputs": [
    {
     "name": "stdout",
     "output_type": "stream",
     "text": [
      "Train on 7352 samples, validate on 2947 samples\n",
      "Epoch 1/30\n",
      "7352/7352 [==============================] - 78s 11ms/step - loss: 1.2500 - acc: 0.6004 - val_loss: 0.9653 - val_acc: 0.6373\n",
      "Epoch 2/30\n",
      "7352/7352 [==============================] - 65s 9ms/step - loss: 0.9421 - acc: 0.7063 - val_loss: 0.8662 - val_acc: 0.7703\n",
      "Epoch 3/30\n",
      "7352/7352 [==============================] - 63s 9ms/step - loss: 0.7976 - acc: 0.7503 - val_loss: 1.0186 - val_acc: 0.6230\n",
      "Epoch 4/30\n",
      "7352/7352 [==============================] - 64s 9ms/step - loss: 0.6942 - acc: 0.7792 - val_loss: 0.6294 - val_acc: 0.8419\n",
      "Epoch 5/30\n",
      "7352/7352 [==============================] - 66s 9ms/step - loss: 0.5689 - acc: 0.8362 - val_loss: 0.5647 - val_acc: 0.8398\n",
      "Epoch 6/30\n",
      "7352/7352 [==============================] - 66s 9ms/step - loss: 0.4781 - acc: 0.8594 - val_loss: 0.6098 - val_acc: 0.8140\n",
      "Epoch 7/30\n",
      "7352/7352 [==============================] - 64s 9ms/step - loss: 0.3485 - acc: 0.9013 - val_loss: 0.3218 - val_acc: 0.8880\n",
      "Epoch 8/30\n",
      "7352/7352 [==============================] - 63s 9ms/step - loss: 0.2751 - acc: 0.9134 - val_loss: 0.3524 - val_acc: 0.8761\n",
      "Epoch 9/30\n",
      "7352/7352 [==============================] - 64s 9ms/step - loss: 0.2148 - acc: 0.9374 - val_loss: 0.3373 - val_acc: 0.8758\n",
      "Epoch 10/30\n",
      "7352/7352 [==============================] - 64s 9ms/step - loss: 0.2297 - acc: 0.9191 - val_loss: 0.3950 - val_acc: 0.8707\n",
      "Epoch 11/30\n",
      "7352/7352 [==============================] - 64s 9ms/step - loss: 0.2171 - acc: 0.9274 - val_loss: 0.2987 - val_acc: 0.9030\n",
      "Epoch 12/30\n",
      "7352/7352 [==============================] - 64s 9ms/step - loss: 0.1776 - acc: 0.9402 - val_loss: 0.2523 - val_acc: 0.9186\n",
      "Epoch 13/30\n",
      "7352/7352 [==============================] - 63s 9ms/step - loss: 0.1768 - acc: 0.9387 - val_loss: 0.3005 - val_acc: 0.9172\n",
      "Epoch 14/30\n",
      "7352/7352 [==============================] - 63s 9ms/step - loss: 0.1631 - acc: 0.9444 - val_loss: 0.2963 - val_acc: 0.9063\n",
      "Epoch 15/30\n",
      "7352/7352 [==============================] - 63s 9ms/step - loss: 0.1617 - acc: 0.9407 - val_loss: 0.3734 - val_acc: 0.9046\n",
      "Epoch 16/30\n",
      "7352/7352 [==============================] - 63s 9ms/step - loss: 0.2275 - acc: 0.9242 - val_loss: 0.2806 - val_acc: 0.9121\n",
      "Epoch 17/30\n",
      "7352/7352 [==============================] - 63s 9ms/step - loss: 0.1968 - acc: 0.9313 - val_loss: 0.5779 - val_acc: 0.8768\n",
      "Epoch 18/30\n",
      "7352/7352 [==============================] - 63s 9ms/step - loss: 0.1571 - acc: 0.9416 - val_loss: 0.4603 - val_acc: 0.8931\n",
      "Epoch 19/30\n",
      "7352/7352 [==============================] - 63s 9ms/step - loss: 0.1647 - acc: 0.9377 - val_loss: 0.2669 - val_acc: 0.9077\n",
      "Epoch 20/30\n",
      "7352/7352 [==============================] - 63s 9ms/step - loss: 0.1588 - acc: 0.9397 - val_loss: 0.3038 - val_acc: 0.9036\n",
      "Epoch 21/30\n",
      "7352/7352 [==============================] - 64s 9ms/step - loss: 0.1419 - acc: 0.9468 - val_loss: 0.3541 - val_acc: 0.9067\n",
      "Epoch 22/30\n",
      "7352/7352 [==============================] - 63s 9ms/step - loss: 0.1530 - acc: 0.9446 - val_loss: 0.4034 - val_acc: 0.8772\n",
      "Epoch 23/30\n",
      "7352/7352 [==============================] - 63s 9ms/step - loss: 0.1756 - acc: 0.9378 - val_loss: 0.4569 - val_acc: 0.8945\n",
      "Epoch 24/30\n",
      "7352/7352 [==============================] - 63s 9ms/step - loss: 0.1474 - acc: 0.9450 - val_loss: 0.3659 - val_acc: 0.9087\n",
      "Epoch 25/30\n",
      "7352/7352 [==============================] - 64s 9ms/step - loss: 0.1370 - acc: 0.9459 - val_loss: 0.3999 - val_acc: 0.9074\n",
      "Epoch 26/30\n",
      "7352/7352 [==============================] - 63s 9ms/step - loss: 0.1361 - acc: 0.9455 - val_loss: 0.4077 - val_acc: 0.9158\n",
      "Epoch 27/30\n",
      "7352/7352 [==============================] - 63s 9ms/step - loss: 0.1363 - acc: 0.9457 - val_loss: 0.4169 - val_acc: 0.9094\n",
      "Epoch 28/30\n",
      "7352/7352 [==============================] - 63s 9ms/step - loss: 0.1345 - acc: 0.9493 - val_loss: 0.7048 - val_acc: 0.8778\n",
      "Epoch 29/30\n",
      "7352/7352 [==============================] - 63s 9ms/step - loss: 0.1474 - acc: 0.9453 - val_loss: 0.4217 - val_acc: 0.8979\n",
      "Epoch 30/30\n",
      "7352/7352 [==============================] - 63s 9ms/step - loss: 0.1363 - acc: 0.9493 - val_loss: 0.4554 - val_acc: 0.9155\n"
     ]
    },
    {
     "data": {
      "text/plain": [
       "<keras.callbacks.History at 0x18b9165c0>"
      ]
     },
     "execution_count": 126,
     "metadata": {},
     "output_type": "execute_result"
    }
   ],
   "source": [
    "# Training the model\n",
    "model.fit(X_train,\n",
    "          Y_train,\n",
    "          batch_size=batch_size,\n",
    "          validation_data=(X_test, Y_test),\n",
    "          epochs=epochs)"
   ]
  },
  {
   "cell_type": "code",
   "execution_count": 127,
   "metadata": {
    "colab": {
     "base_uri": "https://localhost:8080/",
     "height": 326
    },
    "colab_type": "code",
    "id": "6GK0y65z8rn3",
    "outputId": "2b833d36-52bc-4b3d-feef-9d67355bc04a"
   },
   "outputs": [
    {
     "name": "stdout",
     "output_type": "stream",
     "text": [
      "Pred                LAYING  SITTING  STANDING  WALKING  WALKING_DOWNSTAIRS  \\\n",
      "True                                                                         \n",
      "LAYING                 510        0         0        0                   0   \n",
      "SITTING                  0      414        68        0                   4   \n",
      "STANDING                 0       75       456        1                   0   \n",
      "WALKING                  0        0         0      472                  24   \n",
      "WALKING_DOWNSTAIRS       0        0         0        1                 419   \n",
      "WALKING_UPSTAIRS         0        0         0       13                  31   \n",
      "\n",
      "Pred                WALKING_UPSTAIRS  \n",
      "True                                  \n",
      "LAYING                            27  \n",
      "SITTING                            5  \n",
      "STANDING                           0  \n",
      "WALKING                            0  \n",
      "WALKING_DOWNSTAIRS                 0  \n",
      "WALKING_UPSTAIRS                 427  \n"
     ]
    }
   ],
   "source": [
    "# Confusion Matrix\n",
    "print(confusion_matrix(Y_test, model.predict(X_test)))"
   ]
  },
  {
   "cell_type": "code",
   "execution_count": 128,
   "metadata": {
    "colab": {
     "base_uri": "https://localhost:8080/",
     "height": 35
    },
    "colab_type": "code",
    "id": "vUFhhP0n8rn9",
    "outputId": "5769d135-e12a-4f7d-c179-0af455ec0b30"
   },
   "outputs": [
    {
     "name": "stdout",
     "output_type": "stream",
     "text": [
      "2947/2947 [==============================] - 7s 3ms/step\n"
     ]
    }
   ],
   "source": [
    "score = model.evaluate(X_test, Y_test)"
   ]
  },
  {
   "cell_type": "code",
   "execution_count": 131,
   "metadata": {
    "colab": {
     "base_uri": "https://localhost:8080/",
     "height": 35
    },
    "colab_type": "code",
    "id": "WJso057i8roE",
    "outputId": "c11e0414-8788-4287-d9cf-2131caba7a22"
   },
   "outputs": [
    {
     "name": "stdout",
     "output_type": "stream",
     "text": [
      "Test Score :  0.9155072955548015\n"
     ]
    }
   ],
   "source": [
    "print(\"Test Score : \",score[1] )"
   ]
  },
  {
   "cell_type": "markdown",
   "metadata": {},
   "source": [
    "**Observation** \n",
    "\n",
    "1. The model performed well and slightly overfits with \n",
    "   -  train score of 94.9% and\n",
    "   -  test score of 91.55%. \n",
    "2. Classification matrix shows that the model performed better classification than earlier models, misclassified\n",
    "   -   13.8% of SITTING classes as STANDING and \n",
    "   -   14% of STANDING classes as SITTING"
   ]
  },
  {
   "cell_type": "markdown",
   "metadata": {},
   "source": [
    "# CONCLUSION"
   ]
  },
  {
   "cell_type": "code",
   "execution_count": 16,
   "metadata": {},
   "outputs": [],
   "source": [
    "from prettytable import PrettyTable\n",
    "pretty_table = PrettyTable()\n",
    "pretty_table.field_names = [\"MODEL\",\"ARCHITECTURE\",\"HYPER PARAMETER\",\"TRAIN ACCURACY\",\"TEST ACCURACY\"]\n",
    "#Tabulating results using pretty table\n",
    "pretty_table.add_row([\"TUNING LSTM UNITS\",\"IN-LSTM(units)-DO(0.5)-OUT(6)\",\"units=128\",\"0.9257\",\"0.9233\"])\n",
    "pretty_table.add_row([\"TUNING DROPOUT RATE\",\"IN-LSTM(128)-DO(rate)-OUT(6)\",\"rate=0.5\",\"0.9249\",\"0.9012\"])\n",
    "pretty_table.add_row([\"2 HIDDEN LSTMs\",\"IN-LSTM(128)-DO(0.5)-BN-LSTM(32)-DO(0.5)-BN-OUT(6)\",\"-\",\"0.9493\",\"0.9155\"])\n"
   ]
  },
  {
   "cell_type": "code",
   "execution_count": 17,
   "metadata": {},
   "outputs": [
    {
     "name": "stdout",
     "output_type": "stream",
     "text": [
      "+---------------------+----------------------------------------------------+-----------------+----------------+---------------+\n",
      "|        MODEL        |                    ARCHITECTURE                    | HYPER PARAMETER | TRAIN ACCURACY | TEST ACCURACY |\n",
      "+---------------------+----------------------------------------------------+-----------------+----------------+---------------+\n",
      "|  TUNING LSTM UNITS  |           IN-LSTM(units)-DO(0.5)-OUT(6)            |    units=128    |     0.9257     |     0.9233    |\n",
      "| TUNING DROPOUT RATE |            IN-LSTM(128)-DO(rate)-OUT(6)            |     rate=0.5    |     0.9249     |     0.9012    |\n",
      "|    2 HIDDEN LSTMs   | IN-LSTM(128)-DO(0.5)-BN-LSTM(32)-DO(0.5)-BN-OUT(6) |        -        |     0.9493     |     0.9155    |\n",
      "+---------------------+----------------------------------------------------+-----------------+----------------+---------------+\n",
      "BN - BatchNormalization\n",
      "DO - DROPOUT\n",
      "IN - INPUT\n",
      "OUT - OUTPUT \n"
     ]
    }
   ],
   "source": [
    "print(pretty_table)\n",
    "print(\"BN - BatchNormalization\\nDO - DROPOUT\\nIN - INPUT\\nOUT - OUTPUT \")"
   ]
  },
  {
   "cell_type": "markdown",
   "metadata": {},
   "source": [
    "**Conclusion**:\n",
    "    \n",
    "1.  All the three models gave a test score above 90%\n",
    "2.  Model with 2 LSTM hidden layers classified better than the other two models with less misclassification of STANDING and SITTING classes"
   ]
  },
  {
   "cell_type": "code",
   "execution_count": null,
   "metadata": {},
   "outputs": [],
   "source": []
  }
 ],
 "metadata": {
  "accelerator": "GPU",
  "colab": {
   "collapsed_sections": [],
   "name": "HAR_LSTM.ipynb",
   "provenance": [],
   "version": "0.3.2"
  },
  "kernelspec": {
   "display_name": "Python 3",
   "language": "python",
   "name": "python3"
  },
  "language_info": {
   "codemirror_mode": {
    "name": "ipython",
    "version": 3
   },
   "file_extension": ".py",
   "mimetype": "text/x-python",
   "name": "python",
   "nbconvert_exporter": "python",
   "pygments_lexer": "ipython3",
   "version": "3.6.5"
  }
 },
 "nbformat": 4,
 "nbformat_minor": 1
}
